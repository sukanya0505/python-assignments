{
 "cells": [
  {
   "cell_type": "code",
   "execution_count": 3,
   "metadata": {},
   "outputs": [
    {
     "name": "stdout",
     "output_type": "stream",
     "text": [
      "enter the number till where u want the sum10\n",
      "The sum is 55\n"
     ]
    }
   ],
   "source": [
    "num1=int(input(\"enter the number till where u want the sum\"))\n",
    "sum1=0\n",
    "while(num1>0):\n",
    "    sum1=sum1+num1\n",
    "    num1=num1-1\n",
    "print(f\"The sum is {sum1}\")"
   ]
  },
  {
   "cell_type": "code",
   "execution_count": 8,
   "metadata": {},
   "outputs": [
    {
     "name": "stdout",
     "output_type": "stream",
     "text": [
      "Enter a number for which u want to find it prime or not6\n",
      "6 is not a prime number\n"
     ]
    }
   ],
   "source": [
    "num1=int(input(\"Enter a number for which u want to find it prime or not\"))\n",
    "if num1>1:\n",
    "    if(num1==2):\n",
    "        print(f\"{num1} is a prime number\")\n",
    "    elif(num1%2==0):\n",
    "        print(f\"{num1} is not a prime number\")\n",
    "    else:\n",
    "        print(f\"{num1} is a prime number\")\n",
    "else:\n",
    "    print(f\"{num1} is not a prime number\")"
   ]
  },
  {
   "cell_type": "code",
   "execution_count": null,
   "metadata": {},
   "outputs": [],
   "source": []
  },
  {
   "cell_type": "code",
   "execution_count": null,
   "metadata": {},
   "outputs": [],
   "source": []
  }
 ],
 "metadata": {
  "kernelspec": {
   "display_name": "Python 3",
   "language": "python",
   "name": "python3"
  },
  "language_info": {
   "codemirror_mode": {
    "name": "ipython",
    "version": 3
   },
   "file_extension": ".py",
   "mimetype": "text/x-python",
   "name": "python",
   "nbconvert_exporter": "python",
   "pygments_lexer": "ipython3",
   "version": "3.7.6"
  }
 },
 "nbformat": 4,
 "nbformat_minor": 4
}
